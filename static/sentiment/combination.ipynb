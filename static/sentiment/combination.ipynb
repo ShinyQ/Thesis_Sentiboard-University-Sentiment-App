{
 "cells": [
  {
   "cell_type": "code",
   "execution_count": 20,
   "metadata": {},
   "outputs": [],
   "source": [
    "import os\n",
    "import pandas as pd"
   ]
  },
  {
   "cell_type": "code",
   "execution_count": 21,
   "metadata": {},
   "outputs": [
    {
     "data": {
      "text/plain": [
       "['instagramp14.json',\n",
       " 'instagramp20.json',\n",
       " 'instagramp7.json',\n",
       " 'insta1000update.json',\n",
       " 'instagram_doc_clustering-2021-4.json',\n",
       " 'instagramp8.json',\n",
       " 'instagramp18.json',\n",
       " 'instagramp11.json',\n",
       " 'instagramp6.json',\n",
       " 'instagramp9.json',\n",
       " 'instagramp2.json',\n",
       " 'instagramp13.json',\n",
       " 'instagramp17.json',\n",
       " 'instagramp1.json',\n",
       " 'instagramp16.json',\n",
       " 'instagramp12.json',\n",
       " 'instagramp15.json',\n",
       " 'instagramp3.json',\n",
       " 'instagramp19.json',\n",
       " 'instagramp10.json',\n",
       " 'insta1000update2.json',\n",
       " 'instagramp5.json',\n",
       " 'instagramp4.json']"
      ]
     },
     "execution_count": 21,
     "metadata": {},
     "output_type": "execute_result"
    }
   ],
   "source": [
    "data_insta = os.listdir('Dataset/Instagram')\n",
    "data_insta"
   ]
  },
  {
   "cell_type": "code",
   "execution_count": 22,
   "metadata": {},
   "outputs": [
    {
     "data": {
      "text/plain": [
       "['twitter1000.json', 'twitter.json']"
      ]
     },
     "execution_count": 22,
     "metadata": {},
     "output_type": "execute_result"
    }
   ],
   "source": [
    "data_twitter = os.listdir('Dataset/Twitter')\n",
    "data_twitter"
   ]
  },
  {
   "cell_type": "code",
   "execution_count": 23,
   "metadata": {},
   "outputs": [
    {
     "data": {
      "text/html": [
       "<div>\n",
       "<style scoped>\n",
       "    .dataframe tbody tr th:only-of-type {\n",
       "        vertical-align: middle;\n",
       "    }\n",
       "\n",
       "    .dataframe tbody tr th {\n",
       "        vertical-align: top;\n",
       "    }\n",
       "\n",
       "    .dataframe thead th {\n",
       "        text-align: right;\n",
       "    }\n",
       "</style>\n",
       "<table border=\"1\" class=\"dataframe\">\n",
       "  <thead>\n",
       "    <tr style=\"text-align: right;\">\n",
       "      <th></th>\n",
       "      <th>post_username</th>\n",
       "      <th>post_userlink</th>\n",
       "      <th>post_description</th>\n",
       "      <th>post_time</th>\n",
       "      <th>post_like</th>\n",
       "      <th>comment_username</th>\n",
       "      <th>comment_userlink</th>\n",
       "      <th>comment_text</th>\n",
       "      <th>comment_like</th>\n",
       "      <th>comment_time</th>\n",
       "      <th>comment_reply</th>\n",
       "    </tr>\n",
       "  </thead>\n",
       "  <tbody>\n",
       "    <tr>\n",
       "      <th>0</th>\n",
       "      <td>telkomuniversity</td>\n",
       "      <td>https://www.instagram.com/telkomuniversity/</td>\n",
       "      <td>Salah satu angle lain dari gedung Telkom Unive...</td>\n",
       "      <td>3w</td>\n",
       "      <td>7,101</td>\n",
       "      <td>citra.tifany</td>\n",
       "      <td>https://www.instagram.com/citra.tifany/</td>\n",
       "      <td>YaAllah udah jadi ajaaa</td>\n",
       "      <td>0</td>\n",
       "      <td>3w</td>\n",
       "      <td>{'username_reply': 0, 'username_reply_href': 0...</td>\n",
       "    </tr>\n",
       "    <tr>\n",
       "      <th>1</th>\n",
       "      <td>telkomuniversity</td>\n",
       "      <td>https://www.instagram.com/telkomuniversity/</td>\n",
       "      <td>Salah satu angle lain dari gedung Telkom Unive...</td>\n",
       "      <td>3w</td>\n",
       "      <td>7,101</td>\n",
       "      <td>mqmsu</td>\n",
       "      <td>https://www.instagram.com/mqmsu/</td>\n",
       "      <td>😍</td>\n",
       "      <td>0</td>\n",
       "      <td>3w</td>\n",
       "      <td>{'username_reply': 0, 'username_reply_href': 0...</td>\n",
       "    </tr>\n",
       "    <tr>\n",
       "      <th>2</th>\n",
       "      <td>telkomuniversity</td>\n",
       "      <td>https://www.instagram.com/telkomuniversity/</td>\n",
       "      <td>Salah satu angle lain dari gedung Telkom Unive...</td>\n",
       "      <td>3w</td>\n",
       "      <td>7,101</td>\n",
       "      <td>renaldywiryadipraja</td>\n",
       "      <td>https://www.instagram.com/renaldywiryadipraja/</td>\n",
       "      <td>Bojong Soang yg dulu kampung kumuh, jorok dan ...</td>\n",
       "      <td>0</td>\n",
       "      <td>3w</td>\n",
       "      <td>{'username_reply': 0, 'username_reply_href': 0...</td>\n",
       "    </tr>\n",
       "    <tr>\n",
       "      <th>3</th>\n",
       "      <td>telkomuniversity</td>\n",
       "      <td>https://www.instagram.com/telkomuniversity/</td>\n",
       "      <td>Salah satu angle lain dari gedung Telkom Unive...</td>\n",
       "      <td>3w</td>\n",
       "      <td>7,101</td>\n",
       "      <td>aabdsyukur</td>\n",
       "      <td>https://www.instagram.com/aabdsyukur/</td>\n",
       "      <td>Markas Avengers cabang kota Bandung</td>\n",
       "      <td>0</td>\n",
       "      <td>3w</td>\n",
       "      <td>{'username_reply': 0, 'username_reply_href': 0...</td>\n",
       "    </tr>\n",
       "    <tr>\n",
       "      <th>4</th>\n",
       "      <td>telkomuniversity</td>\n",
       "      <td>https://www.instagram.com/telkomuniversity/</td>\n",
       "      <td>Salah satu angle lain dari gedung Telkom Unive...</td>\n",
       "      <td>3w</td>\n",
       "      <td>7,101</td>\n",
       "      <td>artdhya</td>\n",
       "      <td>https://www.instagram.com/artdhya/</td>\n",
       "      <td>😍</td>\n",
       "      <td>0</td>\n",
       "      <td>3w</td>\n",
       "      <td>{'username_reply': 0, 'username_reply_href': 0...</td>\n",
       "    </tr>\n",
       "  </tbody>\n",
       "</table>\n",
       "</div>"
      ],
      "text/plain": [
       "      post_username                                post_userlink  \\\n",
       "0  telkomuniversity  https://www.instagram.com/telkomuniversity/   \n",
       "1  telkomuniversity  https://www.instagram.com/telkomuniversity/   \n",
       "2  telkomuniversity  https://www.instagram.com/telkomuniversity/   \n",
       "3  telkomuniversity  https://www.instagram.com/telkomuniversity/   \n",
       "4  telkomuniversity  https://www.instagram.com/telkomuniversity/   \n",
       "\n",
       "                                    post_description post_time post_like  \\\n",
       "0  Salah satu angle lain dari gedung Telkom Unive...        3w    7,101    \n",
       "1  Salah satu angle lain dari gedung Telkom Unive...        3w    7,101    \n",
       "2  Salah satu angle lain dari gedung Telkom Unive...        3w    7,101    \n",
       "3  Salah satu angle lain dari gedung Telkom Unive...        3w    7,101    \n",
       "4  Salah satu angle lain dari gedung Telkom Unive...        3w    7,101    \n",
       "\n",
       "      comment_username                                comment_userlink  \\\n",
       "0         citra.tifany         https://www.instagram.com/citra.tifany/   \n",
       "1                mqmsu                https://www.instagram.com/mqmsu/   \n",
       "2  renaldywiryadipraja  https://www.instagram.com/renaldywiryadipraja/   \n",
       "3           aabdsyukur           https://www.instagram.com/aabdsyukur/   \n",
       "4              artdhya              https://www.instagram.com/artdhya/   \n",
       "\n",
       "                                        comment_text  comment_like  \\\n",
       "0                            YaAllah udah jadi ajaaa             0   \n",
       "1                                                  😍             0   \n",
       "2  Bojong Soang yg dulu kampung kumuh, jorok dan ...             0   \n",
       "3                Markas Avengers cabang kota Bandung             0   \n",
       "4                                                  😍             0   \n",
       "\n",
       "  comment_time                                      comment_reply  \n",
       "0           3w  {'username_reply': 0, 'username_reply_href': 0...  \n",
       "1           3w  {'username_reply': 0, 'username_reply_href': 0...  \n",
       "2           3w  {'username_reply': 0, 'username_reply_href': 0...  \n",
       "3           3w  {'username_reply': 0, 'username_reply_href': 0...  \n",
       "4           3w  {'username_reply': 0, 'username_reply_href': 0...  "
      ]
     },
     "execution_count": 23,
     "metadata": {},
     "output_type": "execute_result"
    }
   ],
   "source": [
    "df_insta = pd.read_json('Dataset/Instagram/insta1000update2.json')\n",
    "df_insta.head()"
   ]
  },
  {
   "cell_type": "code",
   "execution_count": 24,
   "metadata": {},
   "outputs": [],
   "source": [
    "df_final = pd.DataFrame()"
   ]
  },
  {
   "cell_type": "code",
   "execution_count": 25,
   "metadata": {},
   "outputs": [],
   "source": [
    "for file in data_insta:\n",
    "    df_curr = pd.read_json(f'Dataset/Instagram/{file}')\n",
    "    df_curr = df_curr[['comment_text']]\n",
    "\n",
    "    df_final = pd.concat([df_final, df_curr])"
   ]
  },
  {
   "cell_type": "code",
   "execution_count": 26,
   "metadata": {},
   "outputs": [],
   "source": [
    "for file in data_twitter:\n",
    "    df_curr = pd.read_json(f'Dataset/Twitter/{file}')\n",
    "    df_curr = df_curr[['tweet_text']]\n",
    "    df_curr.rename(columns = {'tweet_text':'comment_text'}, inplace = True)\n",
    "    \n",
    "    df_final = pd.concat([df_final, df_curr])"
   ]
  },
  {
   "cell_type": "code",
   "execution_count": 27,
   "metadata": {},
   "outputs": [
    {
     "data": {
      "text/plain": [
       "2011"
      ]
     },
     "execution_count": 27,
     "metadata": {},
     "output_type": "execute_result"
    }
   ],
   "source": [
    "df_final.drop_duplicates(inplace=True)\n",
    "len(df_final)"
   ]
  },
  {
   "cell_type": "code",
   "execution_count": 28,
   "metadata": {},
   "outputs": [],
   "source": [
    "df_final.to_csv('combined.csv', index=False)"
   ]
  }
 ],
 "metadata": {
  "kernelspec": {
   "display_name": "Python 3.10.4 64-bit",
   "language": "python",
   "name": "python3"
  },
  "language_info": {
   "codemirror_mode": {
    "name": "ipython",
    "version": 3
   },
   "file_extension": ".py",
   "mimetype": "text/x-python",
   "name": "python",
   "nbconvert_exporter": "python",
   "pygments_lexer": "ipython3",
   "version": "3.10.4"
  },
  "orig_nbformat": 4,
  "vscode": {
   "interpreter": {
    "hash": "31f2aee4e71d21fbe5cf8b01ff0e069b9275f58929596ceb00d14d90e3e16cd6"
   }
  }
 },
 "nbformat": 4,
 "nbformat_minor": 2
}
